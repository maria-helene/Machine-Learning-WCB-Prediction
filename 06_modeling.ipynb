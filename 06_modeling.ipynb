{
 "cells": [
  {
   "cell_type": "markdown",
   "id": "c4a4df20",
   "metadata": {},
   "source": [
    "<img src=\"https://encrypted-tbn0.gstatic.com/images?q=tbn:ANd9GcTaJWG7PzF3toxaRMB1-JicpqMgJuEXATd0fg&\" style=\"width: 150px;margin-top:30px;\" align =\"center\">\n",
    "\n",
    "\n",
    "<div style= \"font-size: 40px;font-weight:bold; font-family: 'Avenir Next LT Pro', sans-serif;\"><center>To Grant or Not to Grant</center></div> <br>\n",
    "\n",
    "<div style= \"font-size: 27px;font-weight:bold;line-height: 1.1; margin-top:40px; font-family: 'Avenir Next LT Pro', sans-serif;\"><center>Machine Learning Project 2024/2025</center></div> <br>\n",
    "\n",
    "   <div style= \"font-size: 20px;font-weight:bold; font-family: 'Avenir Next LT Pro', sans-serif;\"><center> Group 42:</center></div>\n",
    "   <div><center> Eden da Silva | 20240740 </center></div>\n",
    "   <div><center> José Cavaco | 20240513 </center></div>\n",
    "   <div><center> Luana Rocha | 20240111 </center></div>\n",
    "   <div><center> Maria Radix | 20240687 </center></div>\n",
    "   <div><center> Tiago Castilho | 20240489 </center></div>"
   ]
  },
  {
   "cell_type": "markdown",
   "id": "81504d0f",
   "metadata": {},
   "source": [
    "# Notebook 6: Modeling\n",
    "# Index\n",
    "\n",
    "* [6.0. Imports](#imp)\n",
    "\n",
    "* [6.1. SMOTE](#smote)\n",
    "\n",
    "* [6.2. Models](#models)\n",
    "  * [6.2.1. Random Forest](#rf)\n",
    "  * [6.2.2. Neural Network](#nn)\n",
    "  * [6.2.3. K Nearest Neighbors](#knn)\n",
    "  * [6.2.4. Decision Tree](#tree)\n",
    "  * [6.2.5. Logistic Regression](#logreg)\n",
    "  * [6.2.6. Gradient Boosting](#gradient)\n",
    "  * [6.2.7. Ensemble](#ens)\n",
    "  * [6.2.8 XGBoost](#xgb)\n",
    " * [6.3 Kaggle Submission](#kaggle)"
   ]
  },
  {
   "cell_type": "markdown",
   "id": "45090946",
   "metadata": {},
   "source": [
    "<hr>\n",
    "<div class=\"alert alert-block alert-info\" style=\"font-size:12px\" id=\"imp\">\n",
    "    \n",
    "# **6.0. Imports**\n",
    " \n",
    "</a>"
   ]
  },
  {
   "cell_type": "code",
   "execution_count": 1,
   "id": "243b4750",
   "metadata": {},
   "outputs": [],
   "source": [
    "import pandas as pd\n",
    "import numpy as np\n",
    "\n",
    "from sklearn.metrics import classification_report, accuracy_score, confusion_matrix, f1_score\n",
    "\n",
    "from sklearn.ensemble import RandomForestClassifier\n",
    "from sklearn.neural_network import MLPClassifier\n",
    "from sklearn.neighbors import KNeighborsClassifier\n",
    "from sklearn.naive_bayes import MultinomialNB\n",
    "from sklearn.tree import DecisionTreeClassifier\n",
    "from sklearn.linear_model import LogisticRegression\n",
    "from sklearn.ensemble import GradientBoostingClassifier\n",
    "from sklearn.naive_bayes import GaussianNB\n",
    "from sklearn.ensemble import StackingClassifier\n",
    "from xgboost import XGBClassifier\n",
    "\n",
    "from imblearn.over_sampling import SMOTE\n",
    "\n",
    "import warnings\n",
    "warnings.filterwarnings('ignore')"
   ]
  },
  {
   "cell_type": "code",
   "execution_count": 3,
   "id": "7f536642-dab6-40a0-b262-939f4ea9ac4e",
   "metadata": {},
   "outputs": [],
   "source": [
    "#importing\n",
    "\n",
    "df_train_log_minmax_fs = pd.read_csv('df_train_log_minmax_fs.csv', low_memory=False, index_col = 0)\n",
    "df_val_log_minmax_fs = pd.read_csv('df_val_log_minmax_fs.csv', low_memory=False, index_col = 0)\n",
    "\n",
    "test_data = pd.read_csv('df_test_log_minmax_fs.csv', low_memory=False, index_col = 0)"
   ]
  },
  {
   "cell_type": "code",
   "execution_count": 4,
   "id": "b71e3ad0-f62c-416b-a2fb-1a2db78af2df",
   "metadata": {},
   "outputs": [],
   "source": [
    "X_train = df_train_log_minmax_fs.drop('Claim Injury Type', axis = 1)\n",
    "X_val = df_val_log_minmax_fs.drop('Claim Injury Type', axis = 1)\n",
    "\n",
    "y_train = df_train_log_minmax_fs['Claim Injury Type']\n",
    "y_val = df_val_log_minmax_fs['Claim Injury Type']"
   ]
  },
  {
   "cell_type": "markdown",
   "id": "a9427665",
   "metadata": {},
   "source": [
    "<hr>\n",
    "<div class=\"alert alert-block alert-info\" style=\"font-size:12px\" id=\"smote\">\n",
    "    \n",
    "# **6.1. SMOTE**\n",
    " \n",
    "</a>"
   ]
  },
  {
   "cell_type": "markdown",
   "id": "8a56da05",
   "metadata": {},
   "source": [
    "We will use Synthetic Minority Oversampling Technique (SMOTE) to solve the class imbalance that is present in our target feature, Claim Injury Type. From previous feature exploration, we know the categories that represent extreme case injuries (categories 7 and 8) are very rare. SMOTE works by analyzing the categories with few values and generating similar points. The addition of these 'synthetic' points helps to balance the dataset, making it easier for models to predict the more rare categories.\n",
    "\n",
    "Source: https://www.analyticsvidhya.com/blog/2020/10/overcoming-class-imbalance-using-smote-techniques/"
   ]
  },
  {
   "cell_type": "code",
   "execution_count": 9,
   "id": "da4605cb",
   "metadata": {},
   "outputs": [],
   "source": [
    "# Initialize SMOTE\n",
    "smote = SMOTE(random_state=1)\n",
    "\n",
    "# Resample the training data\n",
    "X_train_resampled, y_train_resampled = smote.fit_resample(X_train, y_train)"
   ]
  },
  {
   "cell_type": "markdown",
   "id": "da1c05fa",
   "metadata": {},
   "source": [
    "<hr>\n",
    "<div class=\"alert alert-block alert-info\" style=\"font-size:12px\" id=\"models\">\n",
    "    \n",
    "# **6.2. Models**\n",
    " \n",
    "</a>"
   ]
  },
  {
   "cell_type": "markdown",
   "id": "6a1fb9f6",
   "metadata": {},
   "source": [
    "<hr>\n",
    "<div class=\"alert alert-block alert-info\" style=\"font-size:12px\" id=\"rf\">\n",
    "    \n",
    "# 6.2.1. Random Forest\n",
    " \n",
    "</a>"
   ]
  },
  {
   "cell_type": "code",
   "execution_count": 9,
   "id": "6742a7b8",
   "metadata": {},
   "outputs": [
    {
     "name": "stdout",
     "output_type": "stream",
     "text": [
      "Accuracy Train Score: 0.9999781380943705\n",
      "Accuracy Val Score: 0.7810812223422419\n",
      "\n",
      "Confusion Matrix:\n",
      "[[ 1456   916    80    39     5     0     0     0]\n",
      " [  782 55706  1121   550    44     0     0     5]\n",
      " [   48  7011  1600  4421   686     8     0     6]\n",
      " [   35  1349   820 24757  2622   101     0    17]\n",
      " [    0    22    82  3453  6073    26     0     0]\n",
      " [    0     2    13   665   125    36     0     1]\n",
      " [    0     0     1    13     2     2     0     1]\n",
      " [    2    21     7    27     0     0     0    37]]\n",
      "\n",
      "Classification Report:\n",
      "              precision    recall  f1-score   support\n",
      "\n",
      "           1       0.63      0.58      0.60      2496\n",
      "           2       0.86      0.96      0.90     58208\n",
      "           3       0.43      0.12      0.18     13780\n",
      "           4       0.73      0.83      0.78     29701\n",
      "           5       0.64      0.63      0.63      9656\n",
      "           6       0.21      0.04      0.07       842\n",
      "           7       0.00      0.00      0.00        19\n",
      "           8       0.55      0.39      0.46        94\n",
      "\n",
      "    accuracy                           0.78    114796\n",
      "   macro avg       0.50      0.44      0.45    114796\n",
      "weighted avg       0.74      0.78      0.75    114796\n",
      "\n"
     ]
    }
   ],
   "source": [
    "# # Initialize Random Forest Classifier\n",
    "# rf = RandomForestClassifier(n_estimators=100, random_state=42)\n",
    "# rf.fit(X_train_resampled, y_train_resampled)\n",
    "\n",
    "# # Predict and evaluate\n",
    "\n",
    "# y_train_pred_rf = rf.predict(X_train)\n",
    "# y_val_pred_rf = rf.predict(X_val)\n",
    "\n",
    "# print(\"Accuracy Train Score:\", accuracy_score(y_train, y_train_pred_rf))\n",
    "# print(\"Accuracy Val Score:\", accuracy_score(y_val, y_val_pred_rf))\n",
    "# print(\"\\nConfusion Matrix:\")\n",
    "# print(confusion_matrix(y_val, y_val_pred_rf))\n",
    "# print(\"\\nClassification Report:\")\n",
    "# print(classification_report(y_val, y_val_pred_rf))"
   ]
  },
  {
   "cell_type": "markdown",
   "id": "ffb1f970",
   "metadata": {},
   "source": [
    "<hr>\n",
    "<div class=\"alert alert-block alert-info\" style=\"font-size:12px\" id=\"nn\">\n",
    "    \n",
    "# 6.2.2. Neural Network\n",
    " \n",
    "</a>"
   ]
  },
  {
   "cell_type": "code",
   "execution_count": 10,
   "id": "8ad85d66",
   "metadata": {},
   "outputs": [
    {
     "name": "stdout",
     "output_type": "stream",
     "text": [
      "Accuracy Train Score: 0.7477038926337524\n",
      "Accuracy Val Score: 0.7437976932994181\n",
      "\n",
      "Confusion Matrix:\n",
      "[[ 1649   699    83    49     8     1     1     6]\n",
      " [ 2110 53327  1589  1006    96     8     2    70]\n",
      " [  206  6703  1712  4068   864   183     4    40]\n",
      " [  125  1330   943 21788  3708  1704    23    80]\n",
      " [    0    46   110  2516  6607   364     8     5]\n",
      " [    0     2    15   405   163   253     2     2]\n",
      " [    0     0     2     6     4     6     0     1]\n",
      " [    4    14     6    19     1     1     0    49]]\n",
      "\n",
      "Classification Report:\n",
      "              precision    recall  f1-score   support\n",
      "\n",
      "           1       0.40      0.66      0.50      2496\n",
      "           2       0.86      0.92      0.89     58208\n",
      "           3       0.38      0.12      0.19     13780\n",
      "           4       0.73      0.73      0.73     29701\n",
      "           5       0.58      0.68      0.63      9656\n",
      "           6       0.10      0.30      0.15       842\n",
      "           7       0.00      0.00      0.00        19\n",
      "           8       0.19      0.52      0.28        94\n",
      "\n",
      "    accuracy                           0.74    114796\n",
      "   macro avg       0.41      0.49      0.42    114796\n",
      "weighted avg       0.73      0.74      0.73    114796\n",
      "\n"
     ]
    }
   ],
   "source": [
    "# # Initialize and train MLP Classifier\n",
    "# mlp = MLPClassifier(random_state=42)\n",
    "# mlp.fit(X_train_resampled, y_train_resampled)\n",
    "\n",
    "# # Predict and evaluate\n",
    "# y_train_pred_mlp = mlp.predict(X_train)\n",
    "# y_val_pred_mlp = mlp.predict(X_val)\n",
    "\n",
    "# print(\"Accuracy Train Score:\", accuracy_score(y_train, y_train_pred_mlp))\n",
    "# print(\"Accuracy Val Score:\", accuracy_score(y_val, y_val_pred_mlp))\n",
    "# print(\"\\nConfusion Matrix:\")\n",
    "# print(confusion_matrix(y_val, y_val_pred_mlp))\n",
    "# print(\"\\nClassification Report:\")\n",
    "# print(classification_report(y_val, y_val_pred_mlp))"
   ]
  },
  {
   "cell_type": "markdown",
   "id": "914e8466",
   "metadata": {},
   "source": [
    "<hr>\n",
    "<div class=\"alert alert-block alert-info\" style=\"font-size:12px\" id=\"knn\">\n",
    "    \n",
    "# 6.2.3. KNN\n",
    " \n",
    "</a>"
   ]
  },
  {
   "cell_type": "code",
   "execution_count": 11,
   "id": "1c7bfc5f",
   "metadata": {},
   "outputs": [
    {
     "name": "stdout",
     "output_type": "stream",
     "text": [
      "Accuracy Train Score: 0.8086888929373899\n",
      "Accuracy Val Score: 0.5621711557894004\n",
      "\n",
      "Confusion Matrix:\n",
      "[[ 1634   518   242    64    31     4     1     2]\n",
      " [ 4602 37814 13963  1378   352    42     1    56]\n",
      " [  613  4612  4208  2751  1300   253     7    36]\n",
      " [  486  1850  4876 14893  5526  1920    66    84]\n",
      " [   41   115   930  2223  5750   567    13    17]\n",
      " [    3     2    68   331   232   199     4     3]\n",
      " [    0     1     0     5     3     8     1     1]\n",
      " [    3    16     9    18     8     3     1    36]]\n",
      "\n",
      "Classification Report:\n",
      "              precision    recall  f1-score   support\n",
      "\n",
      "           1       0.22      0.65      0.33      2496\n",
      "           2       0.84      0.65      0.73     58208\n",
      "           3       0.17      0.31      0.22     13780\n",
      "           4       0.69      0.50      0.58     29701\n",
      "           5       0.44      0.60      0.50      9656\n",
      "           6       0.07      0.24      0.10       842\n",
      "           7       0.01      0.05      0.02        19\n",
      "           8       0.15      0.38      0.22        94\n",
      "\n",
      "    accuracy                           0.56    114796\n",
      "   macro avg       0.32      0.42      0.34    114796\n",
      "weighted avg       0.67      0.56      0.60    114796\n",
      "\n"
     ]
    }
   ],
   "source": [
    "# knn = KNeighborsClassifier(n_neighbors=5)\n",
    "# knn.fit(X_train_resampled, y_train_resampled)\n",
    "\n",
    "# # Predict and evaluate\n",
    "# y_train_pred_knn = knn.predict(X_train)\n",
    "# y_val_pred_knn = knn.predict(X_val)\n",
    "\n",
    "# print(\"Accuracy Train Score:\", accuracy_score(y_train, y_train_pred_knn))\n",
    "# print(\"Accuracy Val Score:\", accuracy_score(y_val, y_val_pred_knn))\n",
    "# print(\"\\nConfusion Matrix:\")\n",
    "# print(confusion_matrix(y_val, y_val_pred_knn))\n",
    "# print(\"\\nClassification Report:\")\n",
    "# print(classification_report(y_val, y_val_pred_knn))"
   ]
  },
  {
   "cell_type": "markdown",
   "id": "20776744",
   "metadata": {},
   "source": [
    "<hr>\n",
    "<div class=\"alert alert-block alert-info\" style=\"font-size:12px\" id=\"tree\">\n",
    "    \n",
    "# 6.2.4. Decision Tree\n",
    " \n",
    "</a>"
   ]
  },
  {
   "cell_type": "code",
   "execution_count": 13,
   "id": "da1fa7e4",
   "metadata": {},
   "outputs": [
    {
     "name": "stdout",
     "output_type": "stream",
     "text": [
      "Accuracy Train Score: 0.9999781380943705\n",
      "Accuracy Val Score: 0.6607982856545525\n",
      "\n",
      "Confusion Matrix:\n",
      "[[ 1291   922   181    97     4     0     0     1]\n",
      " [ 1750 47307  7687  1354    76     6     0    28]\n",
      " [  228  5774  3331  3434   890   107     6    10]\n",
      " [  132  1249  4527 18536  4338   852    22    45]\n",
      " [    4    74   974  3126  5254   219     2     3]\n",
      " [    1     6    63   472   193   106     0     1]\n",
      " [    0     1     0     9     4     4     0     1]\n",
      " [    5    12    18    23     1     3     0    32]]\n",
      "\n",
      "Classification Report:\n",
      "              precision    recall  f1-score   support\n",
      "\n",
      "           1       0.38      0.52      0.44      2496\n",
      "           2       0.85      0.81      0.83     58208\n",
      "           3       0.20      0.24      0.22     13780\n",
      "           4       0.69      0.62      0.65     29701\n",
      "           5       0.49      0.54      0.51      9656\n",
      "           6       0.08      0.13      0.10       842\n",
      "           7       0.00      0.00      0.00        19\n",
      "           8       0.26      0.34      0.30        94\n",
      "\n",
      "    accuracy                           0.66    114796\n",
      "   macro avg       0.37      0.40      0.38    114796\n",
      "weighted avg       0.68      0.66      0.67    114796\n",
      "\n"
     ]
    }
   ],
   "source": [
    "# # Initialize the Decision Tree model\n",
    "# dt_model = DecisionTreeClassifier(random_state=42)\n",
    "\n",
    "# # Train the model\n",
    "# dt_model.fit(X_train_resampled, y_train_resampled)\n",
    "\n",
    "# # Predict and evaluate\n",
    "# y_train_pred_dt = dt_model.predict(X_train)\n",
    "# y_val_pred_dt = dt_model.predict(X_val)\n",
    "\n",
    "# print(\"Accuracy Train Score:\", accuracy_score(y_train, y_train_pred_dt))\n",
    "# print(\"Accuracy Val Score:\", accuracy_score(y_val, y_val_pred_dt))\n",
    "# print(\"\\nConfusion Matrix:\")\n",
    "# print(confusion_matrix(y_val, y_val_pred_dt))\n",
    "# print(\"\\nClassification Report:\")\n",
    "# print(classification_report(y_val, y_val_pred_dt))"
   ]
  },
  {
   "cell_type": "markdown",
   "id": "26be6f8c",
   "metadata": {},
   "source": [
    "<hr>\n",
    "<div class=\"alert alert-block alert-info\" style=\"font-size:12px\" id=\"logred\">\n",
    "    \n",
    "# 6.2.5. Logistic Regression\n",
    " \n",
    "</a>"
   ]
  },
  {
   "cell_type": "code",
   "execution_count": 14,
   "id": "6e71fad5",
   "metadata": {},
   "outputs": [
    {
     "name": "stdout",
     "output_type": "stream",
     "text": [
      "Accuracy Train Score: 0.5772514726422542\n",
      "Accuracy Val Score: 0.5770410118819471\n",
      "\n",
      "Confusion Matrix:\n",
      "[[ 1674   469   216    58    17    17     3    42]\n",
      " [ 6182 42491  6392  2131   510    58    23   421]\n",
      " [  794  4639  2774  2814  1462   900   188   209]\n",
      " [  465   336  1293 12990  6090  6142  1918   467]\n",
      " [    2     0    56  1690  5712  1675   450    71]\n",
      " [    1     0     5    63    99   512   147    15]\n",
      " [    0     0     0     0     2     6     9     2]\n",
      " [    1     0     4     1     2     1     5    80]]\n",
      "\n",
      "Classification Report:\n",
      "              precision    recall  f1-score   support\n",
      "\n",
      "           1       0.18      0.67      0.29      2496\n",
      "           2       0.89      0.73      0.80     58208\n",
      "           3       0.26      0.20      0.23     13780\n",
      "           4       0.66      0.44      0.53     29701\n",
      "           5       0.41      0.59      0.49      9656\n",
      "           6       0.05      0.61      0.10       842\n",
      "           7       0.00      0.47      0.01        19\n",
      "           8       0.06      0.85      0.11        94\n",
      "\n",
      "    accuracy                           0.58    114796\n",
      "   macro avg       0.31      0.57      0.32    114796\n",
      "weighted avg       0.69      0.58      0.62    114796\n",
      "\n"
     ]
    }
   ],
   "source": [
    "# log_reg = LogisticRegression()\n",
    "\n",
    "# log_reg.fit(X_train_resampled, y_train_resampled)\n",
    "\n",
    "# # Predict and evaluate\n",
    "# y_train_pred_lr = log_reg.predict(X_train)\n",
    "# y_val_pred_lr = log_reg.predict(X_val)\n",
    "\n",
    "# print(\"Accuracy Train Score:\", accuracy_score(y_train, y_train_pred_lr))\n",
    "# print(\"Accuracy Val Score:\", accuracy_score(y_val, y_val_pred_lr))\n",
    "# print(\"\\nConfusion Matrix:\")\n",
    "# print(confusion_matrix(y_val, y_val_pred_lr))\n",
    "# print(\"\\nClassification Report:\")\n",
    "# print(classification_report(y_val, y_val_pred_lr))"
   ]
  },
  {
   "cell_type": "markdown",
   "id": "e46af504",
   "metadata": {},
   "source": [
    "<hr>\n",
    "<div class=\"alert alert-block alert-info\" style=\"font-size:12px\" id=\"gb\">\n",
    "    \n",
    "# 6.2.6. Gradient Boosting\n",
    " \n",
    "</a>"
   ]
  },
  {
   "cell_type": "code",
   "execution_count": 17,
   "id": "0aa98c43",
   "metadata": {},
   "outputs": [
    {
     "name": "stdout",
     "output_type": "stream",
     "text": [
      "Accuracy Train Score: 0.7735276613833728\n",
      "Accuracy Val Score: 0.7707150074915502\n",
      "\n",
      "Confusion Matrix:\n",
      "[[ 1549   815    58    58     6     1     1     8]\n",
      " [ 1274 55209  1074   537    58     1     0    55]\n",
      " [   69  7050  1523  4280   747    79     2    30]\n",
      " [   70  1355   723 23413  3178   877     8    77]\n",
      " [    0    42    61  2851  6536   164     1     1]\n",
      " [    0     2    10   498   142   185     3     2]\n",
      " [    0     0     1    10     4     3     0     1]\n",
      " [    2    16     2    13     0     0     1    60]]\n",
      "\n",
      "Classification Report:\n",
      "              precision    recall  f1-score   support\n",
      "\n",
      "           1       0.52      0.62      0.57      2496\n",
      "           2       0.86      0.95      0.90     58208\n",
      "           3       0.44      0.11      0.18     13780\n",
      "           4       0.74      0.79      0.76     29701\n",
      "           5       0.61      0.68      0.64      9656\n",
      "           6       0.14      0.22      0.17       842\n",
      "           7       0.00      0.00      0.00        19\n",
      "           8       0.26      0.64      0.37        94\n",
      "\n",
      "    accuracy                           0.77    114796\n",
      "   macro avg       0.45      0.50      0.45    114796\n",
      "weighted avg       0.74      0.77      0.74    114796\n",
      "\n"
     ]
    }
   ],
   "source": [
    "# #Gradient Boosting Classifier\n",
    "# GB = GradientBoostingClassifier(\n",
    "#     n_estimators=200,            \n",
    "#     learning_rate=0.1,          \n",
    "#     max_depth=5,                 \n",
    "#     min_samples_split=5,         \n",
    "#     max_features='sqrt',         \n",
    "#     random_state=42)\n",
    "\n",
    "# # Training the model\n",
    "# GB.fit(X_train_resampled, y_train_resampled)\n",
    "\n",
    "# # Predict and evaluate\n",
    "# y_train_pred_gb = GB.predict(X_train)\n",
    "# y_val_pred_gb = GB.predict(X_val)\n",
    "\n",
    "# print(\"Accuracy Train Score:\", accuracy_score(y_train, y_train_pred_gb))\n",
    "# print(\"Accuracy Val Score:\", accuracy_score(y_val, y_val_pred_gb))\n",
    "# print(\"\\nConfusion Matrix:\")\n",
    "# print(confusion_matrix(y_val, y_val_pred_gb))\n",
    "# print(\"\\nClassification Report:\")\n",
    "# print(classification_report(y_val, y_val_pred_gb))"
   ]
  },
  {
   "cell_type": "markdown",
   "id": "34dab678",
   "metadata": {},
   "source": [
    "<hr>\n",
    "<div class=\"alert alert-block alert-info\" style=\"font-size:12px\" id=\"ens\">\n",
    "    \n",
    "# 6.2.7. Ensemble\n",
    " \n",
    "</a>"
   ]
  },
  {
   "cell_type": "code",
   "execution_count": 22,
   "id": "eb573455",
   "metadata": {},
   "outputs": [
    {
     "name": "stdout",
     "output_type": "stream",
     "text": [
      "Accuracy Train Score: 0.6147737900042509\n",
      "Accuracy Val Score: 0.616188717376912\n",
      "\n",
      "Confusion Matrix:\n",
      "[[ 1684   622   106    32    11     3     2    36]\n",
      " [ 4799 49325  2756   912    90    25     1   300]\n",
      " [  508  6509  1280  2753  1912   630    49   139]\n",
      " [  307   732  1225 11088  8556  6700   811   282]\n",
      " [    0     0    16   869  6710  1926   112    23]\n",
      " [    0     0     6    16   159   562    94     5]\n",
      " [    0     0     0     0     2     6    10     1]\n",
      " [    3     1     3     7     0     1     2    77]]\n",
      "\n",
      "Classification Report:\n",
      "              precision    recall  f1-score   support\n",
      "\n",
      "           1       0.23      0.67      0.34      2496\n",
      "           2       0.86      0.85      0.85     58208\n",
      "           3       0.24      0.09      0.13     13780\n",
      "           4       0.71      0.37      0.49     29701\n",
      "           5       0.38      0.69      0.50      9656\n",
      "           6       0.06      0.67      0.11       842\n",
      "           7       0.01      0.53      0.02        19\n",
      "           8       0.09      0.82      0.16        94\n",
      "\n",
      "    accuracy                           0.62    114796\n",
      "   macro avg       0.32      0.59      0.33    114796\n",
      "weighted avg       0.69      0.62      0.63    114796\n",
      "\n"
     ]
    }
   ],
   "source": [
    "# estimators = [\n",
    "#     ('rf', RandomForestClassifier(n_estimators=100, criterion=\"gini\", max_features='sqrt', random_state=5, max_depth=8)),\n",
    "#     ('lr', LogisticRegression(max_iter=1000, random_state=5))\n",
    "# ]\n",
    "\n",
    "# sc = StackingClassifier(estimators=estimators, final_estimator=GaussianNB())\n",
    "\n",
    "# sc.fit(X_train_resampled, y_train_resampled)\n",
    "\n",
    "# # Predict and evaluate\n",
    "# y_train_pred_sc = sc.predict(X_train)\n",
    "# y_val_pred_sc = sc.predict(X_val)\n",
    "\n",
    "# print(\"Accuracy Train Score:\", accuracy_score(y_train, y_train_pred_sc))\n",
    "# print(\"Accuracy Val Score:\", accuracy_score(y_val, y_val_pred_sc))\n",
    "# print(\"\\nConfusion Matrix:\")\n",
    "# print(confusion_matrix(y_val, y_val_pred_sc))\n",
    "# print(\"\\nClassification Report:\")\n",
    "# print(classification_report(y_val, y_val_pred_sc))"
   ]
  },
  {
   "cell_type": "markdown",
   "id": "ccbce2af",
   "metadata": {},
   "source": [
    "<hr>\n",
    "<div class=\"alert alert-block alert-info\" style=\"font-size:12px\" id=\"xgb\">\n",
    "    \n",
    "# 6.2.8. XGBoost\n",
    " \n",
    "</a>"
   ]
  },
  {
   "cell_type": "code",
   "execution_count": 11,
   "id": "77104f17",
   "metadata": {},
   "outputs": [
    {
     "name": "stdout",
     "output_type": "stream",
     "text": [
      "Accuracy Train Score: 0.78846250171501\n",
      "Accuracy Val Score: 0.7812293111258232\n",
      "\n",
      "Confusion Matrix:\n",
      "[[ 1585   791    62    46     8     0     0     4]\n",
      " [ 1101 55928   724   383    50     2     0    20]\n",
      " [   52  7229  1557  4148   703    65     2    24]\n",
      " [   72  1311   881 23612  2897   856    11    61]\n",
      " [    2    22    99  2595  6752   183     2     1]\n",
      " [    0     1    11   499   136   190     3     2]\n",
      " [    0     0     2     8     3     5     0     1]\n",
      " [    1    14     2    19     0     0     0    58]]\n",
      "\n",
      "Classification Report:\n",
      "              precision    recall  f1-score   support\n",
      "\n",
      "           0       0.56      0.64      0.60      2496\n",
      "           1       0.86      0.96      0.91     58208\n",
      "           2       0.47      0.11      0.18     13780\n",
      "           3       0.75      0.79      0.77     29701\n",
      "           4       0.64      0.70      0.67      9656\n",
      "           5       0.15      0.23      0.18       842\n",
      "           6       0.00      0.00      0.00        19\n",
      "           7       0.34      0.62      0.44        94\n",
      "\n",
      "    accuracy                           0.78    114796\n",
      "   macro avg       0.47      0.51      0.47    114796\n",
      "weighted avg       0.75      0.78      0.75    114796\n",
      "\n"
     ]
    }
   ],
   "source": [
    "## XGB expects y to start from 0 so we changed y_train and y_val\n",
    "\n",
    "y_train_xgb_res = y_train_resampled - 1\n",
    "y_train_xgb = y_train - 1\n",
    "y_val_xgb = y_val - 1\n",
    "\n",
    "# Initialize and train XGBoost\n",
    "xgb = XGBClassifier()\n",
    "\n",
    "xgb.fit(X_train_resampled, y_train_xgb_res)\n",
    "\n",
    "# Predict and evaluate\n",
    "y_train_pred_xgb = xgb.predict(X_train)\n",
    "y_val_pred_xgb = xgb.predict(X_val)\n",
    "\n",
    "print(\"Accuracy Train Score:\", accuracy_score(y_train_xgb, y_train_pred_xgb))\n",
    "print(\"Accuracy Val Score:\", accuracy_score(y_val_xgb, y_val_pred_xgb))\n",
    "print(\"\\nConfusion Matrix:\")\n",
    "print(confusion_matrix(y_val_xgb, y_val_pred_xgb))\n",
    "print(\"\\nClassification Report:\")\n",
    "print(classification_report(y_val_xgb, y_val_pred_xgb))"
   ]
  },
  {
   "cell_type": "markdown",
   "id": "8b3bba0a",
   "metadata": {},
   "source": [
    "<hr>\n",
    "<div class=\"alert alert-block alert-info\" style=\"font-size:12px\" id=\"kaggle\">\n",
    "    \n",
    "# 6.3. Kaggle Submission\n",
    " \n",
    "</a>"
   ]
  },
  {
   "cell_type": "code",
   "execution_count": 8,
   "id": "55b9b913",
   "metadata": {},
   "outputs": [],
   "source": [
    "test_data['Claim Injury Type'] = xgb.predict(test_data)"
   ]
  },
  {
   "cell_type": "code",
   "execution_count": 10,
   "id": "cd0cfec1",
   "metadata": {},
   "outputs": [],
   "source": [
    "## only for xgb\n",
    "test_data['Claim Injury Type'] = test_data['Claim Injury Type']+1"
   ]
  },
  {
   "cell_type": "code",
   "execution_count": 11,
   "id": "58621405",
   "metadata": {},
   "outputs": [],
   "source": [
    "kaggle_submission = test_data[['Claim Injury Type']].copy()"
   ]
  },
  {
   "cell_type": "code",
   "execution_count": 12,
   "id": "175c2b3c",
   "metadata": {},
   "outputs": [
    {
     "name": "stdout",
     "output_type": "stream",
     "text": [
      "                  Claim Injury Type\n",
      "Claim Identifier                   \n",
      "6165911                           2\n",
      "6166141                           2\n",
      "6165907                           2\n",
      "6166047                           2\n",
      "6166102                           2\n",
      "...                             ...\n",
      "6553137                           1\n",
      "6553119                           1\n",
      "6553542                           1\n",
      "6553455                           1\n",
      "6553594                           1\n",
      "\n",
      "[387975 rows x 1 columns]\n"
     ]
    }
   ],
   "source": [
    "print(kaggle_submission)"
   ]
  },
  {
   "cell_type": "code",
   "execution_count": 13,
   "id": "31b45d55",
   "metadata": {},
   "outputs": [],
   "source": [
    "#creating a dictionary so that we can access Claim Injury Type descriptions when we make our predictions with the model\n",
    "claim_injury_type_dict = {1: '1. CANCELLED', 2: '2. NON-COMP', 3: '3. MED ONLY', 4: '4. TEMPORARY', 5: '5. PPD SCH LOSS',\n",
    "                           6: '6. PPD NSL', 7: '7. PTD', 8: '8. DEATH'}"
   ]
  },
  {
   "cell_type": "code",
   "execution_count": 14,
   "id": "e6cf8467",
   "metadata": {},
   "outputs": [],
   "source": [
    "kaggle_submission['Claim Injury Type'] = kaggle_submission['Claim Injury Type'].map(claim_injury_type_dict)"
   ]
  },
  {
   "cell_type": "code",
   "execution_count": 15,
   "id": "46c0f3db",
   "metadata": {},
   "outputs": [],
   "source": [
    "#export test data predictions\n",
    "kaggle_submission.to_csv('ClaimInjuryType_predictions3.csv')"
   ]
  }
 ],
 "metadata": {
  "kernelspec": {
   "display_name": "Python 3 (ipykernel)",
   "language": "python",
   "name": "python3"
  },
  "language_info": {
   "codemirror_mode": {
    "name": "ipython",
    "version": 3
   },
   "file_extension": ".py",
   "mimetype": "text/x-python",
   "name": "python",
   "nbconvert_exporter": "python",
   "pygments_lexer": "ipython3",
   "version": "3.12.2"
  }
 },
 "nbformat": 4,
 "nbformat_minor": 5
}
